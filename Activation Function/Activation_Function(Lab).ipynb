{
  "nbformat": 4,
  "nbformat_minor": 0,
  "metadata": {
    "colab": {
      "name": "Activation Function(Lab).ipynb",
      "provenance": [],
      "collapsed_sections": []
    },
    "kernelspec": {
      "name": "python3",
      "display_name": "Python 3"
    },
    "language_info": {
      "name": "python"
    }
  },
  "cells": [
    {
      "cell_type": "code",
      "metadata": {
        "id": "NQGBwO6TtEaV"
      },
      "source": [
        "%matplotlib inline\n",
        "import matplotlib.pyplot as plt\n",
        "import seaborn as sns"
      ],
      "execution_count": null,
      "outputs": []
    },
    {
      "cell_type": "code",
      "metadata": {
        "id": "1X06PrPtuT17"
      },
      "source": [
        "def plot_fun(x,y,title):\n",
        "  plt.figure(figsize=(5,3)).gca()\n",
        "  plt.plot(x,y)\n",
        "  plt.xlabel('X')\n",
        "  plt.ylabel('Y')\n",
        "  plt.title(title)"
      ],
      "execution_count": null,
      "outputs": []
    },
    {
      "cell_type": "markdown",
      "metadata": {
        "id": "pFALCYLU1cSy"
      },
      "source": [
        "**Binary**"
      ]
    },
    {
      "cell_type": "code",
      "metadata": {
        "id": "-nndjUQc1YLi"
      },
      "source": [
        "def binary(x):\n",
        "  if x>=0:\n",
        "    return 1\n",
        "  else:\n",
        "    return 0"
      ],
      "execution_count": 36,
      "outputs": []
    },
    {
      "cell_type": "code",
      "metadata": {
        "id": "_s32Eq_218Uj"
      },
      "source": [
        "x=[float(x)/10 for x in range(-100,100)]\n",
        "y=[binary(x1) for x1 in x]"
      ],
      "execution_count": 37,
      "outputs": []
    },
    {
      "cell_type": "code",
      "metadata": {
        "colab": {
          "base_uri": "https://localhost:8080/",
          "height": 241
        },
        "id": "x3r-Dy3F1-k3",
        "outputId": "2bd5fcd5-51e3-49aa-c1cb-3be760f48cb4"
      },
      "source": [
        "plot_fun(x,y,'Binary Step Fuction')"
      ],
      "execution_count": 38,
      "outputs": [
        {
          "output_type": "display_data",
          "data": {
            "image/png": "[encoded data removed]",
            "text/plain": [
              "<Figure size 360x216 with 1 Axes>"
            ]
          },
          "metadata": {
            "tags": [],
            "needs_background": "light"
          }
        }
      ]
    },
    {
      "cell_type": "markdown",
      "metadata": {
        "id": "__Boa0fs2PKW"
      },
      "source": [
        "**Linear**"
      ]
    },
    {
      "cell_type": "code",
      "metadata": {
        "id": "fLKDh87z2Ow9"
      },
      "source": [
        "def linear(x):\n",
        "  return x"
      ],
      "execution_count": 39,
      "outputs": []
    },
    {
      "cell_type": "code",
      "metadata": {
        "id": "RPPbLvHw2kEx"
      },
      "source": [
        "x=[float(x)/10 for x in range(-100,100)]\n",
        "y=[linear(x1) for x1 in x]"
      ],
      "execution_count": 42,
      "outputs": []
    },
    {
      "cell_type": "code",
      "metadata": {
        "colab": {
          "base_uri": "https://localhost:8080/",
          "height": 241
        },
        "id": "hhl0CTtW2lX3",
        "outputId": "f36a09a2-5f34-4e84-97ad-6842b3bb7f32"
      },
      "source": [
        "plot_fun(x,y,'Linear Activation Function')"
      ],
      "execution_count": 43,
      "outputs": [
        {
          "output_type": "display_data",
          "data": {
            "image/png": "[encoded data removed]",
            "text/plain": [
              "<Figure size 360x216 with 1 Axes>"
            ]
          },
          "metadata": {
            "tags": [],
            "needs_background": "light"
          }
        }
      ]
    },
    {
      "cell_type": "markdown",
      "metadata": {
        "id": "tXnf5Jvs1PZi"
      },
      "source": [
        "**ReLU**"
      ]
    },
    {
      "cell_type": "code",
      "metadata": {
        "id": "k-lV-cbRtycW"
      },
      "source": [
        "def relu(x):\n",
        "  return (max(0,x))"
      ],
      "execution_count": 44,
      "outputs": []
    },
    {
      "cell_type": "code",
      "metadata": {
        "id": "aIs8t37Lt5GM"
      },
      "source": [
        "x=[float(x)/10 for x in range(-100,100)]\n",
        "y=[relu(x1) for x1 in x]"
      ],
      "execution_count": 45,
      "outputs": []
    },
    {
      "cell_type": "code",
      "metadata": {
        "colab": {
          "base_uri": "https://localhost:8080/",
          "height": 241
        },
        "id": "21G7YSUSuGZb",
        "outputId": "5ff283f2-a8ea-429d-dd52-c0b7d7cc6fce"
      },
      "source": [
        "plot_fun(x,y,'Rectified Linear Unit')"
      ],
      "execution_count": 46,
      "outputs": [
        {
          "output_type": "display_data",
          "data": {
            "image/png": "[encoded data removed]",
            "text/plain": [
              "<Figure size 360x216 with 1 Axes>"
            ]
          },
          "metadata": {
            "tags": [],
            "needs_background": "light"
          }
        }
      ]
    },
    {
      "cell_type": "markdown",
      "metadata": {
        "id": "0r7WwsB13l71"
      },
      "source": [
        "**Leaky ReLU**"
      ]
    },
    {
      "cell_type": "code",
      "metadata": {
        "id": "j8iACLvb3pOb"
      },
      "source": [
        "def Leakyrelu(x):\n",
        "  return (max(x*0.1,x))"
      ],
      "execution_count": 50,
      "outputs": []
    },
    {
      "cell_type": "code",
      "metadata": {
        "id": "sE1y5qZ23xvc"
      },
      "source": [
        "x=[float(x)/10 for x in range(-100,100)]\n",
        "y=[Leakyrelu(x1) for x1 in x]"
      ],
      "execution_count": 51,
      "outputs": []
    },
    {
      "cell_type": "code",
      "metadata": {
        "colab": {
          "base_uri": "https://localhost:8080/",
          "height": 241
        },
        "id": "bECayETa32rq",
        "outputId": "61709678-d3a1-42b2-b221-0cec46bd5b16"
      },
      "source": [
        "plot_fun(x,y,'Leaky Rectified Linear Unit')"
      ],
      "execution_count": 52,
      "outputs": [
        {
          "output_type": "display_data",
          "data": {
            "image/png": "[encoded data removed]",
            "text/plain": [
              "<Figure size 360x216 with 1 Axes>"
            ]
          },
          "metadata": {
            "tags": [],
            "needs_background": "light"
          }
        }
      ]
    },
    {
      "cell_type": "markdown",
      "metadata": {
        "id": "UPgTwmSB1Vks"
      },
      "source": [
        "**Sigmoid**"
      ]
    },
    {
      "cell_type": "code",
      "metadata": {
        "id": "HOf6V3UEu43l"
      },
      "source": [
        "from math import exp\n",
        "def sigmoid(x):\n",
        "  return(exp(x)/(1+exp(x)))"
      ],
      "execution_count": 47,
      "outputs": []
    },
    {
      "cell_type": "code",
      "metadata": {
        "id": "DcZXKYZjvKRT"
      },
      "source": [
        "x=[float(x)/10 for x in range(-100,100)]\n",
        "y=[sigmoid(x1) for x1 in x]"
      ],
      "execution_count": 48,
      "outputs": []
    },
    {
      "cell_type": "code",
      "metadata": {
        "colab": {
          "base_uri": "https://localhost:8080/",
          "height": 241
        },
        "id": "avo0HPVOvN7M",
        "outputId": "0f21739d-6af5-4349-83b4-1f0b9b5a1301"
      },
      "source": [
        "plot_fun(x,y,'Sigmoid Function')"
      ],
      "execution_count": 49,
      "outputs": [
        {
          "output_type": "display_data",
          "data": {
            "image/png": "[encoded data removed]",
            "text/plain": [
              "<Figure size 360x216 with 1 Axes>"
            ]
          },
          "metadata": {
            "tags": [],
            "needs_background": "light"
          }
        }
      ]
    },
    {
      "cell_type": "markdown",
      "metadata": {
        "id": "RKsyTSKf4FLK"
      },
      "source": [
        "**TanH**"
      ]
    },
    {
      "cell_type": "code",
      "metadata": {
        "id": "pdJGpcTO4D6j"
      },
      "source": [
        "from math import exp\n",
        "def Tanh(x):\n",
        "  return(2/(1+exp(-2*x))-1)"
      ],
      "execution_count": 54,
      "outputs": []
    },
    {
      "cell_type": "code",
      "metadata": {
        "id": "088zItdX4g-J"
      },
      "source": [
        "x=[float(x)/10 for x in range(-100,100)]\n",
        "y=[Tanh(x1) for x1 in x]"
      ],
      "execution_count": 55,
      "outputs": []
    },
    {
      "cell_type": "code",
      "metadata": {
        "colab": {
          "base_uri": "https://localhost:8080/",
          "height": 241
        },
        "id": "BURcddxF4lwY",
        "outputId": "a6fbf79e-9c4f-41f2-96e1-192927dcabdc"
      },
      "source": [
        "plot_fun(x,y,'Tanh Function')"
      ],
      "execution_count": 56,
      "outputs": [
        {
          "output_type": "display_data",
          "data": {
            "image/png": "[encoded data removed]",
            "text/plain": [
              "<Figure size 360x216 with 1 Axes>"
            ]
          },
          "metadata": {
            "tags": [],
            "needs_background": "light"
          }
        }
      ]
    },
    {
      "cell_type": "markdown",
      "metadata": {
        "id": "LMHv5mvw46gb"
      },
      "source": [
        "**Swish**"
      ]
    },
    {
      "cell_type": "code",
      "metadata": {
        "id": "fRWbGRs84uAM"
      },
      "source": [
        "from math import exp\n",
        "def swish(x):\n",
        "  return (x*sigmoid(x))"
      ],
      "execution_count": 57,
      "outputs": []
    },
    {
      "cell_type": "code",
      "metadata": {
        "id": "IvIKI2m05RdJ"
      },
      "source": [
        "x=[float(x)/100 for x in range(-500,500)]\n",
        "y=[swish(x1) for x1 in x]"
      ],
      "execution_count": 68,
      "outputs": []
    },
    {
      "cell_type": "code",
      "metadata": {
        "colab": {
          "base_uri": "https://localhost:8080/",
          "height": 241
        },
        "id": "lOGyoqYn5VqS",
        "outputId": "80229d4f-fff6-473a-98eb-5fab89bf0429"
      },
      "source": [
        "plot_fun(x,y,'Swish Function')"
      ],
      "execution_count": 69,
      "outputs": [
        {
          "output_type": "display_data",
          "data": {
            "image/png": "[encoded data removed]",
            "text/plain": [
              "<Figure size 360x216 with 1 Axes>"
            ]
          },
          "metadata": {
            "tags": [],
            "needs_background": "light"
          }
        }
      ]
    }
  ]
}