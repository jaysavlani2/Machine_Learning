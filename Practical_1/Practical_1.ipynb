{
  "nbformat": 4,
  "nbformat_minor": 0,
  "metadata": {
    "colab": {
      "name": "Practical_1.ipynb",
      "provenance": [],
      "collapsed_sections": []
    },
    "kernelspec": {
      "name": "python3",
      "display_name": "Python 3"
    },
    "language_info": {
      "name": "python"
    }
  },
  "cells": [
    {
      "cell_type": "code",
      "metadata": {
        "id": "UyI9Jb5H_75M"
      },
      "source": [
        "import pandas as pd\n",
        "import numpy as np\n",
        "import matplotlib.pyplot as plt\n",
        "from sklearn.metrics import accuracy_score\n",
        "from sklearn.tree import DecisionTreeClassifier\n",
        "from sklearn.ensemble import RandomForestClassifier\n",
        "from sklearn.model_selection import KFold"
      ],
      "execution_count": 2,
      "outputs": []
    },
    {
      "cell_type": "code",
      "metadata": {
        "id": "f0eNZwAOCUgq"
      },
      "source": [
        "from google.colab import drive #to import google drive data"
      ],
      "execution_count": 3,
      "outputs": []
    },
    {
      "cell_type": "code",
      "metadata": {
        "colab": {
          "base_uri": "https://localhost:8080/"
        },
        "id": "K27kRNGfCX2g",
        "outputId": "64bfdc40-c7f0-409f-d222-c1dba6f00c5b"
      },
      "source": [
        "drive.mount('/content/drive') #to mount the drive data into colab clound and enter the activation code"
      ],
      "execution_count": 4,
      "outputs": [
        {
          "output_type": "stream",
          "text": [
            "Mounted at /content/drive\n"
          ],
          "name": "stdout"
        }
      ]
    },
    {
      "cell_type": "code",
      "metadata": {
        "colab": {
          "base_uri": "https://localhost:8080/"
        },
        "id": "mnQN6yG0CtXg",
        "outputId": "df0e479a-47a3-43dd-abb1-5c9b04793065"
      },
      "source": [
        "cd /content/drive/\"My Drive/Colab Notebooks/Practical_1\""
      ],
      "execution_count": 5,
      "outputs": [
        {
          "output_type": "stream",
          "text": [
            "/content/drive/My Drive/Colab Notebooks/Practical_1\n"
          ],
          "name": "stdout"
        }
      ]
    },
    {
      "cell_type": "code",
      "metadata": {
        "colab": {
          "base_uri": "https://localhost:8080/"
        },
        "id": "N4FRz5saC2al",
        "outputId": "ba13bb58-e979-4f54-b62c-104811992177"
      },
      "source": [
        "col_names=['s1','c1','s2','c2','s3','c3','s4','c4','s5','c5','classes' ]\n",
        "dataset=pd.read_csv(\"poker-hand-training-true.data\",names=col_names)\n",
        "print(dataset)\n",
        "dataset.shape"
      ],
      "execution_count": 8,
      "outputs": [
        {
          "output_type": "stream",
          "text": [
            "       s1  c1  s2  c2  s3  c3  s4  c4  s5  c5  classes\n",
            "0       1  10   1  11   1  13   1  12   1   1        9\n",
            "1       2  11   2  13   2  10   2  12   2   1        9\n",
            "2       3  12   3  11   3  13   3  10   3   1        9\n",
            "3       4  10   4  11   4   1   4  13   4  12        9\n",
            "4       4   1   4  13   4  12   4  11   4  10        9\n",
            "...    ..  ..  ..  ..  ..  ..  ..  ..  ..  ..      ...\n",
            "25005   3   9   2   6   4  11   4  12   2   4        0\n",
            "25006   4   1   4  10   3  13   3   4   1  10        1\n",
            "25007   2   1   2  10   4   4   4   1   4  13        1\n",
            "25008   2  12   4   3   1  10   1  12   4   9        1\n",
            "25009   1   7   3  11   3   3   4   8   3   7        1\n",
            "\n",
            "[25010 rows x 11 columns]\n"
          ],
          "name": "stdout"
        },
        {
          "output_type": "execute_result",
          "data": {
            "text/plain": [
              "(25010, 11)"
            ]
          },
          "metadata": {
            "tags": []
          },
          "execution_count": 8
        }
      ]
    },
    {
      "cell_type": "code",
      "metadata": {
        "colab": {
          "base_uri": "https://localhost:8080/"
        },
        "id": "ZMlva91KWFlq",
        "outputId": "ad777909-4201-4c24-bf37-0f04c83ff16b"
      },
      "source": [
        "dataset_test = pd.read_csv(\"poker-hand-testing.data\",names=col_names)\n",
        "print(dataset_test)\n",
        "dataset_test.shape"
      ],
      "execution_count": 9,
      "outputs": [
        {
          "output_type": "stream",
          "text": [
            "        s1  c1  s2  c2  s3  c3  s4  c4  s5  c5  classes\n",
            "0        1   1   1  13   2   4   2   3   1  12        0\n",
            "1        3  12   3   2   3  11   4   5   2   5        1\n",
            "2        1   9   4   6   1   4   3   2   3   9        1\n",
            "3        1   4   3  13   2  13   2   1   3   6        1\n",
            "4        3  10   2   7   1   2   2  11   4   9        0\n",
            "...     ..  ..  ..  ..  ..  ..  ..  ..  ..  ..      ...\n",
            "999995   3   1   1  12   2   9   4   9   2   6        1\n",
            "999996   3   3   4   5   2   7   1   4   4   3        1\n",
            "999997   1  11   4   7   3   9   1  13   2   7        1\n",
            "999998   3  11   1   8   1   1   3  13   2   8        1\n",
            "999999   2   5   2   9   4   9   2   3   3   3        2\n",
            "\n",
            "[1000000 rows x 11 columns]\n"
          ],
          "name": "stdout"
        },
        {
          "output_type": "execute_result",
          "data": {
            "text/plain": [
              "(1000000, 11)"
            ]
          },
          "metadata": {
            "tags": []
          },
          "execution_count": 9
        }
      ]
    },
    {
      "cell_type": "code",
      "metadata": {
        "id": "5j-kDHXLWfxU"
      },
      "source": [
        "x_train =dataset.drop(['classes'], axis=1)\n",
        "y_train = dataset['classes']"
      ],
      "execution_count": 37,
      "outputs": []
    },
    {
      "cell_type": "code",
      "metadata": {
        "colab": {
          "base_uri": "https://localhost:8080/"
        },
        "id": "i66wBB3lYDkS",
        "outputId": "4c17837f-89f3-41de-e6d2-18d46dfdb2cf"
      },
      "source": [
        "y_train.groupby(y_train).size()"
      ],
      "execution_count": 38,
      "outputs": [
        {
          "output_type": "execute_result",
          "data": {
            "text/plain": [
              "classes\n",
              "0    12493\n",
              "1    10599\n",
              "2     1206\n",
              "3      513\n",
              "4       93\n",
              "5       54\n",
              "6       36\n",
              "7        6\n",
              "8        5\n",
              "9        5\n",
              "Name: classes, dtype: int64"
            ]
          },
          "metadata": {
            "tags": []
          },
          "execution_count": 38
        }
      ]
    },
    {
      "cell_type": "code",
      "metadata": {
        "colab": {
          "base_uri": "https://localhost:8080/",
          "height": 265
        },
        "id": "JAVWEl3DbOKg",
        "outputId": "fbda572f-8bb5-4244-8f76-0caa716f46b5"
      },
      "source": [
        "plt.hist(y_train)\n",
        "plt.show() "
      ],
      "execution_count": 39,
      "outputs": [
        {
          "output_type": "display_data",
          "data": {
            "image/png": "[encoded data removed]",
            "text/plain": [
              "<Figure size 432x288 with 1 Axes>"
            ]
          },
          "metadata": {
            "tags": [],
            "needs_background": "light"
          }
        }
      ]
    },
    {
      "cell_type": "code",
      "metadata": {
        "colab": {
          "base_uri": "https://localhost:8080/",
          "height": 391
        },
        "id": "Kr6LLb8acplL",
        "outputId": "7f464746-e21b-4535-c16e-44a3001b5f49"
      },
      "source": [
        "x_train"
      ],
      "execution_count": 44,
      "outputs": [
        {
          "output_type": "execute_result",
          "data": {
            "text/html": [
              "<div>\n",
              "<style scoped>\n",
              "    .dataframe tbody tr th:only-of-type {\n",
              "        vertical-align: middle;\n",
              "    }\n",
              "\n",
              "    .dataframe tbody tr th {\n",
              "        vertical-align: top;\n",
              "    }\n",
              "\n",
              "    .dataframe thead th {\n",
              "        text-align: right;\n",
              "    }\n",
              "</style>\n",
              "<table border=\"1\" class=\"dataframe\">\n",
              "  <thead>\n",
              "    <tr style=\"text-align: right;\">\n",
              "      <th></th>\n",
              "      <th>s1</th>\n",
              "      <th>c1</th>\n",
              "      <th>s2</th>\n",
              "      <th>c2</th>\n",
              "      <th>s3</th>\n",
              "      <th>c3</th>\n",
              "      <th>s4</th>\n",
              "      <th>c4</th>\n",
              "      <th>s5</th>\n",
              "      <th>c5</th>\n",
              "    </tr>\n",
              "  </thead>\n",
              "  <tbody>\n",
              "    <tr>\n",
              "      <th>0</th>\n",
              "      <td>1</td>\n",
              "      <td>10</td>\n",
              "      <td>1</td>\n",
              "      <td>11</td>\n",
              "      <td>1</td>\n",
              "      <td>13</td>\n",
              "      <td>1</td>\n",
              "      <td>12</td>\n",
              "      <td>1</td>\n",
              "      <td>1</td>\n",
              "    </tr>\n",
              "    <tr>\n",
              "      <th>1</th>\n",
              "      <td>2</td>\n",
              "      <td>11</td>\n",
              "      <td>2</td>\n",
              "      <td>13</td>\n",
              "      <td>2</td>\n",
              "      <td>10</td>\n",
              "      <td>2</td>\n",
              "      <td>12</td>\n",
              "      <td>2</td>\n",
              "      <td>1</td>\n",
              "    </tr>\n",
              "    <tr>\n",
              "      <th>2</th>\n",
              "      <td>3</td>\n",
              "      <td>12</td>\n",
              "      <td>3</td>\n",
              "      <td>11</td>\n",
              "      <td>3</td>\n",
              "      <td>13</td>\n",
              "      <td>3</td>\n",
              "      <td>10</td>\n",
              "      <td>3</td>\n",
              "      <td>1</td>\n",
              "    </tr>\n",
              "    <tr>\n",
              "      <th>3</th>\n",
              "      <td>4</td>\n",
              "      <td>10</td>\n",
              "      <td>4</td>\n",
              "      <td>11</td>\n",
              "      <td>4</td>\n",
              "      <td>1</td>\n",
              "      <td>4</td>\n",
              "      <td>13</td>\n",
              "      <td>4</td>\n",
              "      <td>12</td>\n",
              "    </tr>\n",
              "    <tr>\n",
              "      <th>4</th>\n",
              "      <td>4</td>\n",
              "      <td>1</td>\n",
              "      <td>4</td>\n",
              "      <td>13</td>\n",
              "      <td>4</td>\n",
              "      <td>12</td>\n",
              "      <td>4</td>\n",
              "      <td>11</td>\n",
              "      <td>4</td>\n",
              "      <td>10</td>\n",
              "    </tr>\n",
              "    <tr>\n",
              "      <th>...</th>\n",
              "      <td>...</td>\n",
              "      <td>...</td>\n",
              "      <td>...</td>\n",
              "      <td>...</td>\n",
              "      <td>...</td>\n",
              "      <td>...</td>\n",
              "      <td>...</td>\n",
              "      <td>...</td>\n",
              "      <td>...</td>\n",
              "      <td>...</td>\n",
              "    </tr>\n",
              "    <tr>\n",
              "      <th>25005</th>\n",
              "      <td>3</td>\n",
              "      <td>9</td>\n",
              "      <td>2</td>\n",
              "      <td>6</td>\n",
              "      <td>4</td>\n",
              "      <td>11</td>\n",
              "      <td>4</td>\n",
              "      <td>12</td>\n",
              "      <td>2</td>\n",
              "      <td>4</td>\n",
              "    </tr>\n",
              "    <tr>\n",
              "      <th>25006</th>\n",
              "      <td>4</td>\n",
              "      <td>1</td>\n",
              "      <td>4</td>\n",
              "      <td>10</td>\n",
              "      <td>3</td>\n",
              "      <td>13</td>\n",
              "      <td>3</td>\n",
              "      <td>4</td>\n",
              "      <td>1</td>\n",
              "      <td>10</td>\n",
              "    </tr>\n",
              "    <tr>\n",
              "      <th>25007</th>\n",
              "      <td>2</td>\n",
              "      <td>1</td>\n",
              "      <td>2</td>\n",
              "      <td>10</td>\n",
              "      <td>4</td>\n",
              "      <td>4</td>\n",
              "      <td>4</td>\n",
              "      <td>1</td>\n",
              "      <td>4</td>\n",
              "      <td>13</td>\n",
              "    </tr>\n",
              "    <tr>\n",
              "      <th>25008</th>\n",
              "      <td>2</td>\n",
              "      <td>12</td>\n",
              "      <td>4</td>\n",
              "      <td>3</td>\n",
              "      <td>1</td>\n",
              "      <td>10</td>\n",
              "      <td>1</td>\n",
              "      <td>12</td>\n",
              "      <td>4</td>\n",
              "      <td>9</td>\n",
              "    </tr>\n",
              "    <tr>\n",
              "      <th>25009</th>\n",
              "      <td>1</td>\n",
              "      <td>7</td>\n",
              "      <td>3</td>\n",
              "      <td>11</td>\n",
              "      <td>3</td>\n",
              "      <td>3</td>\n",
              "      <td>4</td>\n",
              "      <td>8</td>\n",
              "      <td>3</td>\n",
              "      <td>7</td>\n",
              "    </tr>\n",
              "  </tbody>\n",
              "</table>\n",
              "<p>25010 rows × 10 columns</p>\n",
              "</div>"
            ],
            "text/plain": [
              "       s1  c1  s2  c2  s3  c3  s4  c4  s5  c5\n",
              "0       1  10   1  11   1  13   1  12   1   1\n",
              "1       2  11   2  13   2  10   2  12   2   1\n",
              "2       3  12   3  11   3  13   3  10   3   1\n",
              "3       4  10   4  11   4   1   4  13   4  12\n",
              "4       4   1   4  13   4  12   4  11   4  10\n",
              "...    ..  ..  ..  ..  ..  ..  ..  ..  ..  ..\n",
              "25005   3   9   2   6   4  11   4  12   2   4\n",
              "25006   4   1   4  10   3  13   3   4   1  10\n",
              "25007   2   1   2  10   4   4   4   1   4  13\n",
              "25008   2  12   4   3   1  10   1  12   4   9\n",
              "25009   1   7   3  11   3   3   4   8   3   7\n",
              "\n",
              "[25010 rows x 10 columns]"
            ]
          },
          "metadata": {
            "tags": []
          },
          "execution_count": 44
        }
      ]
    },
    {
      "cell_type": "code",
      "metadata": {
        "id": "n9NhTGIoX28I"
      },
      "source": [
        "x_test =dataset_test.drop(['classes'], axis=1)\n",
        "y_test = dataset_test['classes']"
      ],
      "execution_count": 40,
      "outputs": []
    },
    {
      "cell_type": "code",
      "metadata": {
        "colab": {
          "base_uri": "https://localhost:8080/"
        },
        "id": "jpC67mLJYI4O",
        "outputId": "b55585ad-62c2-41b2-b64f-81404e30a387"
      },
      "source": [
        "y_test.groupby(y_test).size()"
      ],
      "execution_count": 41,
      "outputs": [
        {
          "output_type": "execute_result",
          "data": {
            "text/plain": [
              "classes\n",
              "0    501209\n",
              "1    422498\n",
              "2     47622\n",
              "3     21121\n",
              "4      3885\n",
              "5      1996\n",
              "6      1424\n",
              "7       230\n",
              "8        12\n",
              "9         3\n",
              "Name: classes, dtype: int64"
            ]
          },
          "metadata": {
            "tags": []
          },
          "execution_count": 41
        }
      ]
    },
    {
      "cell_type": "code",
      "metadata": {
        "colab": {
          "base_uri": "https://localhost:8080/",
          "height": 265
        },
        "id": "YOBNUz5mbbHk",
        "outputId": "8a21065c-030f-486e-9eab-434ec901a12f"
      },
      "source": [
        "plt.hist(y_test)\n",
        "plt.show() "
      ],
      "execution_count": 42,
      "outputs": [
        {
          "output_type": "display_data",
          "data": {
            "image/png": "[encoded data removed]",
            "text/plain": [
              "<Figure size 432x288 with 1 Axes>"
            ]
          },
          "metadata": {
            "tags": [],
            "needs_background": "light"
          }
        }
      ]
    },
    {
      "cell_type": "code",
      "metadata": {
        "colab": {
          "base_uri": "https://localhost:8080/",
          "height": 391
        },
        "id": "6OW2oMZ3cFFS",
        "outputId": "552ef506-f85e-494c-d875-a72f88e3ae36"
      },
      "source": [
        "x_test"
      ],
      "execution_count": 43,
      "outputs": [
        {
          "output_type": "execute_result",
          "data": {
            "text/html": [
              "<div>\n",
              "<style scoped>\n",
              "    .dataframe tbody tr th:only-of-type {\n",
              "        vertical-align: middle;\n",
              "    }\n",
              "\n",
              "    .dataframe tbody tr th {\n",
              "        vertical-align: top;\n",
              "    }\n",
              "\n",
              "    .dataframe thead th {\n",
              "        text-align: right;\n",
              "    }\n",
              "</style>\n",
              "<table border=\"1\" class=\"dataframe\">\n",
              "  <thead>\n",
              "    <tr style=\"text-align: right;\">\n",
              "      <th></th>\n",
              "      <th>s1</th>\n",
              "      <th>c1</th>\n",
              "      <th>s2</th>\n",
              "      <th>c2</th>\n",
              "      <th>s3</th>\n",
              "      <th>c3</th>\n",
              "      <th>s4</th>\n",
              "      <th>c4</th>\n",
              "      <th>s5</th>\n",
              "      <th>c5</th>\n",
              "    </tr>\n",
              "  </thead>\n",
              "  <tbody>\n",
              "    <tr>\n",
              "      <th>0</th>\n",
              "      <td>1</td>\n",
              "      <td>1</td>\n",
              "      <td>1</td>\n",
              "      <td>13</td>\n",
              "      <td>2</td>\n",
              "      <td>4</td>\n",
              "      <td>2</td>\n",
              "      <td>3</td>\n",
              "      <td>1</td>\n",
              "      <td>12</td>\n",
              "    </tr>\n",
              "    <tr>\n",
              "      <th>1</th>\n",
              "      <td>3</td>\n",
              "      <td>12</td>\n",
              "      <td>3</td>\n",
              "      <td>2</td>\n",
              "      <td>3</td>\n",
              "      <td>11</td>\n",
              "      <td>4</td>\n",
              "      <td>5</td>\n",
              "      <td>2</td>\n",
              "      <td>5</td>\n",
              "    </tr>\n",
              "    <tr>\n",
              "      <th>2</th>\n",
              "      <td>1</td>\n",
              "      <td>9</td>\n",
              "      <td>4</td>\n",
              "      <td>6</td>\n",
              "      <td>1</td>\n",
              "      <td>4</td>\n",
              "      <td>3</td>\n",
              "      <td>2</td>\n",
              "      <td>3</td>\n",
              "      <td>9</td>\n",
              "    </tr>\n",
              "    <tr>\n",
              "      <th>3</th>\n",
              "      <td>1</td>\n",
              "      <td>4</td>\n",
              "      <td>3</td>\n",
              "      <td>13</td>\n",
              "      <td>2</td>\n",
              "      <td>13</td>\n",
              "      <td>2</td>\n",
              "      <td>1</td>\n",
              "      <td>3</td>\n",
              "      <td>6</td>\n",
              "    </tr>\n",
              "    <tr>\n",
              "      <th>4</th>\n",
              "      <td>3</td>\n",
              "      <td>10</td>\n",
              "      <td>2</td>\n",
              "      <td>7</td>\n",
              "      <td>1</td>\n",
              "      <td>2</td>\n",
              "      <td>2</td>\n",
              "      <td>11</td>\n",
              "      <td>4</td>\n",
              "      <td>9</td>\n",
              "    </tr>\n",
              "    <tr>\n",
              "      <th>...</th>\n",
              "      <td>...</td>\n",
              "      <td>...</td>\n",
              "      <td>...</td>\n",
              "      <td>...</td>\n",
              "      <td>...</td>\n",
              "      <td>...</td>\n",
              "      <td>...</td>\n",
              "      <td>...</td>\n",
              "      <td>...</td>\n",
              "      <td>...</td>\n",
              "    </tr>\n",
              "    <tr>\n",
              "      <th>999995</th>\n",
              "      <td>3</td>\n",
              "      <td>1</td>\n",
              "      <td>1</td>\n",
              "      <td>12</td>\n",
              "      <td>2</td>\n",
              "      <td>9</td>\n",
              "      <td>4</td>\n",
              "      <td>9</td>\n",
              "      <td>2</td>\n",
              "      <td>6</td>\n",
              "    </tr>\n",
              "    <tr>\n",
              "      <th>999996</th>\n",
              "      <td>3</td>\n",
              "      <td>3</td>\n",
              "      <td>4</td>\n",
              "      <td>5</td>\n",
              "      <td>2</td>\n",
              "      <td>7</td>\n",
              "      <td>1</td>\n",
              "      <td>4</td>\n",
              "      <td>4</td>\n",
              "      <td>3</td>\n",
              "    </tr>\n",
              "    <tr>\n",
              "      <th>999997</th>\n",
              "      <td>1</td>\n",
              "      <td>11</td>\n",
              "      <td>4</td>\n",
              "      <td>7</td>\n",
              "      <td>3</td>\n",
              "      <td>9</td>\n",
              "      <td>1</td>\n",
              "      <td>13</td>\n",
              "      <td>2</td>\n",
              "      <td>7</td>\n",
              "    </tr>\n",
              "    <tr>\n",
              "      <th>999998</th>\n",
              "      <td>3</td>\n",
              "      <td>11</td>\n",
              "      <td>1</td>\n",
              "      <td>8</td>\n",
              "      <td>1</td>\n",
              "      <td>1</td>\n",
              "      <td>3</td>\n",
              "      <td>13</td>\n",
              "      <td>2</td>\n",
              "      <td>8</td>\n",
              "    </tr>\n",
              "    <tr>\n",
              "      <th>999999</th>\n",
              "      <td>2</td>\n",
              "      <td>5</td>\n",
              "      <td>2</td>\n",
              "      <td>9</td>\n",
              "      <td>4</td>\n",
              "      <td>9</td>\n",
              "      <td>2</td>\n",
              "      <td>3</td>\n",
              "      <td>3</td>\n",
              "      <td>3</td>\n",
              "    </tr>\n",
              "  </tbody>\n",
              "</table>\n",
              "<p>1000000 rows × 10 columns</p>\n",
              "</div>"
            ],
            "text/plain": [
              "        s1  c1  s2  c2  s3  c3  s4  c4  s5  c5\n",
              "0        1   1   1  13   2   4   2   3   1  12\n",
              "1        3  12   3   2   3  11   4   5   2   5\n",
              "2        1   9   4   6   1   4   3   2   3   9\n",
              "3        1   4   3  13   2  13   2   1   3   6\n",
              "4        3  10   2   7   1   2   2  11   4   9\n",
              "...     ..  ..  ..  ..  ..  ..  ..  ..  ..  ..\n",
              "999995   3   1   1  12   2   9   4   9   2   6\n",
              "999996   3   3   4   5   2   7   1   4   4   3\n",
              "999997   1  11   4   7   3   9   1  13   2   7\n",
              "999998   3  11   1   8   1   1   3  13   2   8\n",
              "999999   2   5   2   9   4   9   2   3   3   3\n",
              "\n",
              "[1000000 rows x 10 columns]"
            ]
          },
          "metadata": {
            "tags": []
          },
          "execution_count": 43
        }
      ]
    },
    {
      "cell_type": "markdown",
      "metadata": {
        "id": "hypaSeApe4jg"
      },
      "source": [
        "**Random Forest Classifier**"
      ]
    },
    {
      "cell_type": "code",
      "metadata": {
        "id": "8as2-LphbtLC"
      },
      "source": [
        "from sklearn.ensemble import RandomForestClassifier\n",
        "clf = RandomForestClassifier(max_depth=2, random_state=0)\n",
        "clf.fit(x_train,y_train)\n",
        "y_pred=clf.predict(x_test)"
      ],
      "execution_count": 46,
      "outputs": []
    },
    {
      "cell_type": "code",
      "metadata": {
        "colab": {
          "base_uri": "https://localhost:8080/"
        },
        "id": "w1Udkpj9c7Jt",
        "outputId": "ffbacafb-3acc-43ac-da38-b6e1c3d49259"
      },
      "source": [
        "y_pred"
      ],
      "execution_count": 47,
      "outputs": [
        {
          "output_type": "execute_result",
          "data": {
            "text/plain": [
              "array([0, 0, 0, ..., 0, 0, 0])"
            ]
          },
          "metadata": {
            "tags": []
          },
          "execution_count": 47
        }
      ]
    },
    {
      "cell_type": "code",
      "metadata": {
        "colab": {
          "base_uri": "https://localhost:8080/"
        },
        "id": "pnkeeu1_dHzT",
        "outputId": "605af030-2f09-4050-d947-fbe45c7009f6"
      },
      "source": [
        "from sklearn.metrics import accuracy_score\n",
        "accuracy_score(y_test, y_pred)"
      ],
      "execution_count": 49,
      "outputs": [
        {
          "output_type": "execute_result",
          "data": {
            "text/plain": [
              "0.501209"
            ]
          },
          "metadata": {
            "tags": []
          },
          "execution_count": 49
        }
      ]
    },
    {
      "cell_type": "markdown",
      "metadata": {
        "id": "QAUKQBpqhC3a"
      },
      "source": [
        "**KNeighbour Classifier**"
      ]
    },
    {
      "cell_type": "code",
      "metadata": {
        "colab": {
          "base_uri": "https://localhost:8080/"
        },
        "id": "lUVVwoAsejOy",
        "outputId": "fbc219ac-2997-4208-cf83-6ade1e7809af"
      },
      "source": [
        "from sklearn.neighbors import KNeighborsClassifier\n",
        "for i in range(1,25):\n",
        "  print(\"For K = \",i);\n",
        "  knc = KNeighborsClassifier(i)\n",
        "  knc.fit(x_train, y_train)\n",
        "  y_pred=knc.predict(x_test)\n",
        "  print(accuracy_score(y_test,y_pred))\n"
      ],
      "execution_count": 61,
      "outputs": [
        {
          "output_type": "stream",
          "text": [
            "For K =  1\n",
            "0.51182\n",
            "For K =  2\n",
            "0.549625\n",
            "For K =  3\n",
            "0.539248\n",
            "For K =  4\n",
            "0.556856\n",
            "For K =  5\n",
            "0.552178\n",
            "For K =  6\n",
            "0.564056\n",
            "For K =  7\n",
            "0.559171\n",
            "For K =  8\n",
            "0.567977\n",
            "For K =  9\n",
            "0.564386\n",
            "For K =  10\n",
            "0.571009\n",
            "For K =  11\n",
            "0.567766\n",
            "For K =  12\n",
            "0.572604\n",
            "For K =  13\n",
            "0.570618\n",
            "For K =  14\n",
            "0.574307\n",
            "For K =  15\n",
            "0.57321\n",
            "For K =  16\n",
            "0.575557\n",
            "For K =  17\n",
            "0.574293\n",
            "For K =  18\n",
            "0.576169\n",
            "For K =  19\n",
            "0.575862\n",
            "For K =  20\n",
            "0.577601\n",
            "For K =  21\n",
            "0.576707\n",
            "For K =  22\n",
            "0.578517\n",
            "For K =  23\n",
            "0.57774\n",
            "For K =  24\n",
            "0.578699\n"
          ],
          "name": "stdout"
        }
      ]
    }
  ]
}