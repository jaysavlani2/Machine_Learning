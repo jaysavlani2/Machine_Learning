{
  "nbformat": 4,
  "nbformat_minor": 0,
  "metadata": {
    "colab": {
      "name": "Different Clustering.ipynb",
      "provenance": [],
      "collapsed_sections": []
    },
    "kernelspec": {
      "name": "python3",
      "display_name": "Python 3"
    },
    "language_info": {
      "name": "python"
    }
  },
  "cells": [
    {
      "cell_type": "markdown",
      "metadata": {
        "id": "LeoDaQyfISI-"
      },
      "source": [
        "**Partitioned Based Clustering**"
      ]
    },
    {
      "cell_type": "code",
      "metadata": {
        "colab": {
          "base_uri": "https://localhost:8080/",
          "height": 282
        },
        "id": "LUJaiIgnF605",
        "outputId": "a9b002fe-1ffd-4635-b2ff-17e80e97dee5"
      },
      "source": [
        "#Partitioned Based Clustering\n",
        "from sklearn.cluster import KMeans\n",
        "import matplotlib.pyplot as plt\n",
        "import numpy as np\n",
        "X = np.array([[1, 2], [1, 4], [1, 0],[10, 2], [10, 4], [10, 0]])\n",
        "plt.scatter(X[:,0],X[:,1])"
      ],
      "execution_count": 11,
      "outputs": [
        {
          "output_type": "execute_result",
          "data": {
            "text/plain": [
              "<matplotlib.collections.PathCollection at 0x7f1f7f27de50>"
            ]
          },
          "metadata": {
            "tags": []
          },
          "execution_count": 11
        },
        {
          "output_type": "display_data",
          "data": {
            "image/png": "[encoded data removed]",
            "text/plain": [
              "<Figure size 432x288 with 1 Axes>"
            ]
          },
          "metadata": {
            "tags": [],
            "needs_background": "light"
          }
        }
      ]
    },
    {
      "cell_type": "code",
      "metadata": {
        "colab": {
          "base_uri": "https://localhost:8080/"
        },
        "id": "LO7oEWfZH0IR",
        "outputId": "8487b2ff-3174-4428-be2e-e4264ca92d4b"
      },
      "source": [
        "kmeans = KMeans(n_clusters=2, random_state=0).fit(X)\n",
        "kmeans.labels_"
      ],
      "execution_count": 22,
      "outputs": [
        {
          "output_type": "execute_result",
          "data": {
            "text/plain": [
              "array([1, 1, 1, 0, 0, 0], dtype=int32)"
            ]
          },
          "metadata": {
            "tags": []
          },
          "execution_count": 22
        }
      ]
    },
    {
      "cell_type": "code",
      "metadata": {
        "colab": {
          "base_uri": "https://localhost:8080/"
        },
        "id": "Ar3gBr2cGxI-",
        "outputId": "8d770bed-31ee-4c95-b370-742823bfd312"
      },
      "source": [
        "kmeans.predict([[0, 0], [12, 3]])"
      ],
      "execution_count": 23,
      "outputs": [
        {
          "output_type": "execute_result",
          "data": {
            "text/plain": [
              "array([1, 0], dtype=int32)"
            ]
          },
          "metadata": {
            "tags": []
          },
          "execution_count": 23
        }
      ]
    },
    {
      "cell_type": "code",
      "metadata": {
        "colab": {
          "base_uri": "https://localhost:8080/"
        },
        "id": "mPGHNYqGGyqZ",
        "outputId": "91446138-96e0-4b65-920a-bbf0061578e9"
      },
      "source": [
        "kmeans.cluster_centers_"
      ],
      "execution_count": 24,
      "outputs": [
        {
          "output_type": "execute_result",
          "data": {
            "text/plain": [
              "array([[10.,  2.],\n",
              "       [ 1.,  2.]])"
            ]
          },
          "metadata": {
            "tags": []
          },
          "execution_count": 24
        }
      ]
    },
    {
      "cell_type": "markdown",
      "metadata": {
        "id": "o2-YkcdbIbH6"
      },
      "source": [
        "**Spectral Clustering**"
      ]
    },
    {
      "cell_type": "code",
      "metadata": {
        "colab": {
          "base_uri": "https://localhost:8080/",
          "height": 282
        },
        "id": "5-H__iS1HAo1",
        "outputId": "5191128e-db73-4a13-c1c9-e2eee74cef08"
      },
      "source": [
        "from sklearn.cluster import SpectralClustering\n",
        "import numpy as np\n",
        "X = np.array([[1, 1], [2, 1], [1, 0],[4, 7], [3, 5], [3, 6]])\n",
        "clustering = SpectralClustering(n_clusters=3,assign_labels=\"discretize\",random_state=0).fit(X)\n",
        "plt.scatter(X[:,0],X[:,1])"
      ],
      "execution_count": 28,
      "outputs": [
        {
          "output_type": "execute_result",
          "data": {
            "text/plain": [
              "<matplotlib.collections.PathCollection at 0x7f1f7713aed0>"
            ]
          },
          "metadata": {
            "tags": []
          },
          "execution_count": 28
        },
        {
          "output_type": "display_data",
          "data": {
            "image/png": "[encoded data removed]",
            "text/plain": [
              "<Figure size 432x288 with 1 Axes>"
            ]
          },
          "metadata": {
            "tags": [],
            "needs_background": "light"
          }
        }
      ]
    },
    {
      "cell_type": "code",
      "metadata": {
        "colab": {
          "base_uri": "https://localhost:8080/"
        },
        "id": "xbFdECTKI0Ck",
        "outputId": "09399122-3a98-41c2-f007-f783d5716575"
      },
      "source": [
        "clustering.labels_"
      ],
      "execution_count": 29,
      "outputs": [
        {
          "output_type": "execute_result",
          "data": {
            "text/plain": [
              "array([1, 1, 1, 2, 0, 0])"
            ]
          },
          "metadata": {
            "tags": []
          },
          "execution_count": 29
        }
      ]
    },
    {
      "cell_type": "code",
      "metadata": {
        "colab": {
          "base_uri": "https://localhost:8080/"
        },
        "id": "JQRetQZqI1wg",
        "outputId": "123b0e84-d051-456d-e88b-1c241629a44b"
      },
      "source": [
        "clustering"
      ],
      "execution_count": 30,
      "outputs": [
        {
          "output_type": "execute_result",
          "data": {
            "text/plain": [
              "SpectralClustering(affinity='rbf', assign_labels='discretize', coef0=1,\n",
              "                   degree=3, eigen_solver=None, eigen_tol=0.0, gamma=1.0,\n",
              "                   kernel_params=None, n_clusters=3, n_components=None,\n",
              "                   n_init=10, n_jobs=None, n_neighbors=10, random_state=0)"
            ]
          },
          "metadata": {
            "tags": []
          },
          "execution_count": 30
        }
      ]
    },
    {
      "cell_type": "markdown",
      "metadata": {
        "id": "H1LtMdBnJQfP"
      },
      "source": [
        "**Optics Clustering**"
      ]
    },
    {
      "cell_type": "code",
      "metadata": {
        "colab": {
          "base_uri": "https://localhost:8080/",
          "height": 282
        },
        "id": "Ltjkq30KJP2L",
        "outputId": "2fb996a6-cf5f-49dc-86b0-b40682c6abc6"
      },
      "source": [
        "from sklearn.cluster import OPTICS\n",
        "import numpy as np\n",
        "X = np.array([[1, 2], [2, 5], [3, 6],[8, 7], [8, 8], [7, 3]])\n",
        "clustering = OPTICS(min_samples=2).fit(X)\n",
        "plt.scatter(X[:,0],X[:,1])"
      ],
      "execution_count": 37,
      "outputs": [
        {
          "output_type": "execute_result",
          "data": {
            "text/plain": [
              "<matplotlib.collections.PathCollection at 0x7f1f76f9e150>"
            ]
          },
          "metadata": {
            "tags": []
          },
          "execution_count": 37
        },
        {
          "output_type": "display_data",
          "data": {
            "image/png": "[encoded data removed]",
            "text/plain": [
              "<Figure size 432x288 with 1 Axes>"
            ]
          },
          "metadata": {
            "tags": [],
            "needs_background": "light"
          }
        }
      ]
    },
    {
      "cell_type": "code",
      "metadata": {
        "colab": {
          "base_uri": "https://localhost:8080/"
        },
        "id": "4IOTSQmtJoaC",
        "outputId": "b4dbd5b1-0e44-4481-ac27-39e5462d75b7"
      },
      "source": [
        "clustering.labels_"
      ],
      "execution_count": 38,
      "outputs": [
        {
          "output_type": "execute_result",
          "data": {
            "text/plain": [
              "array([0, 0, 0, 1, 1, 1])"
            ]
          },
          "metadata": {
            "tags": []
          },
          "execution_count": 38
        }
      ]
    },
    {
      "cell_type": "markdown",
      "metadata": {
        "id": "yaw1iqsxJ_3i"
      },
      "source": [
        "**Mean Shift Clustering**"
      ]
    },
    {
      "cell_type": "code",
      "metadata": {
        "colab": {
          "base_uri": "https://localhost:8080/",
          "height": 282
        },
        "id": "WSCN7qEGJ-v9",
        "outputId": "81a46f57-e845-4c17-8169-075ddb50f33f"
      },
      "source": [
        "from sklearn.cluster import MeanShift\n",
        "import numpy as np\n",
        "X = np.array([[1, 1], [2, 1], [1, 0],[4, 7], [3, 5], [3, 6]])\n",
        "clustering = MeanShift(bandwidth=2).fit(X)\n",
        "plt.scatter(X[:,0],X[:,1])"
      ],
      "execution_count": 56,
      "outputs": [
        {
          "output_type": "execute_result",
          "data": {
            "text/plain": [
              "<matplotlib.collections.PathCollection at 0x7f1f76dd5890>"
            ]
          },
          "metadata": {
            "tags": []
          },
          "execution_count": 56
        },
        {
          "output_type": "display_data",
          "data": {
            "image/png": "[encoded data removed]",
            "text/plain": [
              "<Figure size 432x288 with 1 Axes>"
            ]
          },
          "metadata": {
            "tags": [],
            "needs_background": "light"
          }
        }
      ]
    },
    {
      "cell_type": "code",
      "metadata": {
        "colab": {
          "base_uri": "https://localhost:8080/"
        },
        "id": "cWCMchh8KWlX",
        "outputId": "3bb260c0-5813-47c7-ae6c-cc414704eca1"
      },
      "source": [
        "clustering.labels_"
      ],
      "execution_count": 57,
      "outputs": [
        {
          "output_type": "execute_result",
          "data": {
            "text/plain": [
              "array([1, 1, 1, 0, 0, 0])"
            ]
          },
          "metadata": {
            "tags": []
          },
          "execution_count": 57
        }
      ]
    },
    {
      "cell_type": "code",
      "metadata": {
        "colab": {
          "base_uri": "https://localhost:8080/"
        },
        "id": "NKXjCSsQKY5K",
        "outputId": "726ece76-6187-484c-9f90-9079328ae24a"
      },
      "source": [
        "clustering.predict([[0, 0], [5, 5]])"
      ],
      "execution_count": 58,
      "outputs": [
        {
          "output_type": "execute_result",
          "data": {
            "text/plain": [
              "array([1, 0])"
            ]
          },
          "metadata": {
            "tags": []
          },
          "execution_count": 58
        }
      ]
    }
  ]
}